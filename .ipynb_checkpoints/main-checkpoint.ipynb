{
 "cells": [
  {
   "cell_type": "code",
   "execution_count": 24,
   "metadata": {},
   "outputs": [],
   "source": [
    "import os, sys, datetime\n",
    "from moviepy.editor import *\n",
    "\n",
    "from sclib import SoundcloudAPI, Track, Playlist\n",
    "# from Google import Create_Service\n",
    "# from googleapiclient.http import MediaFileUpload\n",
    "\n",
    "from IPython.display import Video"
   ]
  },
  {
   "cell_type": "code",
   "execution_count": 25,
   "metadata": {},
   "outputs": [],
   "source": [
    "# GLOBAL\n",
    "CLIENT_SECRET_FILE = 'client_secret.json'\n",
    "API_NAME = 'youtube'\n",
    "API_VERSION = 'v3'\n",
    "SCOPES = ['https://www.googleapis.com/auth/youtube.upload']\n",
    "SOUND_URL = 'https://soundcloud.com/free-beats-io/out-of-sadness'\n",
    "IMAGE_PATH = 'pexels-photo-1105666r.jpeg'"
   ]
  },
  {
   "cell_type": "code",
   "execution_count": 26,
   "metadata": {
    "tags": []
   },
   "outputs": [],
   "source": [
    "# download a soundcloud audio\n",
    "api = SoundcloudAPI()\n",
    "track = api.resolve(SOUND_URL)\n",
    "assert type(track) is Track\n",
    "sc_filename = f'./{track.artist} - {track.title}.mp4'\n",
    "with open(sc_filename, 'wb+') as fp:\n",
    "    track.write_mp3_to(fp)"
   ]
  },
  {
   "cell_type": "code",
   "execution_count": 27,
   "metadata": {},
   "outputs": [],
   "source": [
    "audio = AudioFileClip(sc_filename)\n",
    "background = ImageClip(IMAGE_PATH).set_duration(audio.duration)\n",
    "video = background.set_audio(audio)"
   ]
  },
  {
   "cell_type": "code",
   "execution_count": null,
   "metadata": {},
   "outputs": [],
   "source": []
  },
  {
   "cell_type": "code",
   "execution_count": 28,
   "metadata": {
    "tags": []
   },
   "outputs": [
    {
     "name": "stderr",
     "output_type": "stream",
     "text": [
      "chunk:   5%|▌         | 147/2739 [00:00<00:01, 1461.81it/s, now=None]Moviepy - Building video ./FreeBeats.io - Out Of Sadness.mp4.\n",
      "MoviePy - Writing audio in FreeBeats.io - Out Of SadnessTEMP_MPY_wvf_snd.mp3\n",
      "t:  54%|█████▎    | 67/125 [00:00<00:00, 621.92it/s, now=None]MoviePy - Done.\n",
      "Moviepy - Writing video ./FreeBeats.io - Out Of Sadness.mp4\n",
      "\n",
      "Moviepy - Done !\n",
      "Moviepy - video ready ./FreeBeats.io - Out Of Sadness.mp4\n"
     ]
    }
   ],
   "source": [
    "outfile = f\"{os.path.splitext(sc_filename)[0]}.mp4\" # 3.\n",
    "video.write_videofile(outfile, fps=1)"
   ]
  },
  {
   "cell_type": "code",
   "execution_count": 31,
   "metadata": {},
   "outputs": [
    {
     "data": {
      "text/html": [
       "<video src=\"./FreeBeats.io - Out Of Sadness.mp4\" controls  >\n",
       "      Your browser does not support the <code>video</code> element.\n",
       "    </video>"
      ],
      "text/plain": [
       "<IPython.core.display.Video object>"
      ]
     },
     "execution_count": 31,
     "metadata": {},
     "output_type": "execute_result"
    }
   ],
   "source": [
    "Video(outfile)"
   ]
  },
  {
   "cell_type": "code",
   "execution_count": null,
   "metadata": {},
   "outputs": [],
   "source": [
    "# service = Create_Service(CLIENT_SECRET_FILE, API_NAME, API_VERSION, SCOPES)\n",
    "# # upload_date_time = datetime.datetime(2020, 12, 25, 12, 30, 0).isoformat() + '.000Z'\n",
    "# request_body = {\n",
    "#     'snippet': {\n",
    "#         'categoryI': 19,\n",
    "#         'title': f'{track.artist} - {track.title}',\n",
    "#         'description': 'This video was created automatically by an AI agent by Eng. Dr. MD. Wsaam',\n",
    "#         'tags': ['Travel', 'video test', 'Travel Tips']\n",
    "#     },\n",
    "#     'status': {\n",
    "#         'privacyStatus': 'public',\n",
    "#         'selfDeclaredMadeForKids': False,\n",
    "#     },\n",
    "#     'notifySubscribers': False\n",
    "# }\n",
    "\n",
    "# mediaFile = MediaFileUpload(outfile)\n",
    "\n",
    "# response_upload = service.videos().insert(\n",
    "#     part='snippet,status',\n",
    "#     body=request_body,\n",
    "#     media_body=mediaFile\n",
    "# ).execute()\n",
    "\n",
    "\n",
    "# service.thumbnails().set(\n",
    "#     videoId=response_upload.get('id'),\n",
    "#     media_body=MediaFileUpload('thumbnail.png')\n",
    "# ).execute()\n",
    "\n"
   ]
  },
  {
   "cell_type": "code",
   "execution_count": null,
   "metadata": {},
   "outputs": [],
   "source": []
  }
 ],
 "metadata": {
  "kernelspec": {
   "display_name": "Python 3",
   "language": "python",
   "name": "python3"
  },
  "language_info": {
   "codemirror_mode": {
    "name": "ipython",
    "version": 3
   },
   "file_extension": ".py",
   "mimetype": "text/x-python",
   "name": "python",
   "nbconvert_exporter": "python",
   "pygments_lexer": "ipython3",
   "version": "3.7.6"
  }
 },
 "nbformat": 4,
 "nbformat_minor": 2
}
